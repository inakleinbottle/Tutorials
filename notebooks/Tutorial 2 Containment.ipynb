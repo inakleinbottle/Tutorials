{
 "cells": [
  {
   "cell_type": "markdown",
   "metadata": {},
   "source": [
    "# Tutorial 2: Containment\n",
    "In this tutorial we will see the various ways that we can store collections of data in Python. We have already seen some of the basic data types that are available in Python - int, str, and float - and now we will see that we can put many items of these types into different *containers*. The three main container types are *lists*, *tuples*, and *dicts*, and each has its own distinct properties.\n",
    "\n",
    "## Instructions\n",
    "Read through the following sections carefully. When you reach a code cell (those in a highlighted box), you should look at the code inside and then execute the cell (either by pressing the run button on the cell or pressing Ctrl-Enter) to see the output."
   ]
  },
  {
   "cell_type": "markdown",
   "metadata": {},
   "source": [
    "## Lists\n",
    "A list is a flexible container that can change its size depending on the needs of the user. A list is created by simply writing the data between square brackets, such as `a_list = ['string one', 'string two']`. This will create a new list object that contains the two strings `'string one'` and `'string two'`. The current *length* of a list can be accessed using the special `len` function in Python, and will return a non-negative integer representing the current number of items in the list."
   ]
  },
  {
   "cell_type": "code",
   "execution_count": null,
   "metadata": {},
   "outputs": [],
   "source": [
    "a_list = ['string one', 'string two']\n",
    "print(a_list)\n",
    "\n",
    "print('Length is', len(a_list))"
   ]
  },
  {
   "cell_type": "markdown",
   "metadata": {},
   "source": [
    "We can add a new item, say `'a new string'`, to the list using the `append` function that belongs to the list `a_list`. Note that this method belongs to the list in question, so we access it by writing `a_list.append('a new string')`. The dot here tells Python that we want the append function that is attached to this particular list; this type of *referencing* will appear frequently in Python."
   ]
  },
  {
   "cell_type": "code",
   "execution_count": null,
   "metadata": {},
   "outputs": [],
   "source": [
    "a_list.append('a new string')\n",
    "\n",
    "# Now if we repeat our print statements as above, the output will change\n",
    "print(a_list)\n",
    "\n",
    "print('Length is', len(a_list))"
   ]
  },
  {
   "cell_type": "markdown",
   "metadata": {},
   "source": [
    "To remove an item from the list we can use the `pop` or `remove` functions belonging to the list. The `pop` function removes the last element (by default) from the list and outputs the value. On the other hand, the `remove` function finds the first item in the list that matches the provided item and removes that item."
   ]
  },
  {
   "cell_type": "code",
   "execution_count": null,
   "metadata": {},
   "outputs": [],
   "source": [
    "removed = a_list.remove('a new string')\n",
    "print('Removed \"a new string\", the list is now', a_list)\n",
    "print('We got out', removed)\n",
    "\n",
    "popped = a_list.pop()\n",
    "print('Popped an element from the list, this list is now', a_list)\n",
    "print('We got out', popped)"
   ]
  },
  {
   "cell_type": "markdown",
   "metadata": {},
   "source": [
    "We access the items in a list, without removing them, using Python's indexing syntax. Items in a list are indexed using the numbers 0, 1, 2, and so on: the first item is indexed by 0, the second by 1, the third by 2, and so on. (This system is sometimes called 0-based indexing, as opposed to 1-based indexing where the first item has index 1, the second 2, and so on.)"
   ]
  },
  {
   "cell_type": "code",
   "execution_count": null,
   "metadata": {},
   "outputs": [],
   "source": [
    "a_list.append('string two')\n",
    "a_list.append('a new string') # add the items we removed above back to the list\n",
    "\n",
    "print('First item is', a_list[0])\n",
    "print('Second item is', a_list[1])\n",
    "print('Third item is', a_list[2])\n",
    "\n",
    "# Note that a_list only contains three items, so trying to access a_list[3] will result in an index error\n",
    "a_list[3]"
   ]
  },
  {
   "cell_type": "markdown",
   "metadata": {},
   "source": [
    "There are other ways to access the items in a list, which may be more appropriate than simply retrieving the item using its index. We shall see these later.\n",
    "\n",
    "## Tuples\n",
    "Tuples are like lists in that they store item and are indexed numerically, but unlike lists one cannot add items to a tuple or remove items. We create a tuple by listing the items, separated by commas, between round brackets. We can access the elements using the same indexing as for lists, and tuples also support the `len` function."
   ]
  },
  {
   "cell_type": "code",
   "execution_count": null,
   "metadata": {},
   "outputs": [],
   "source": [
    "a_tuple = (1, 2, 3)\n",
    "\n",
    "print('Length is',len(a_tuple))\n",
    "\n",
    "print('First item is', a_tuple[0])\n",
    "print('Second item is', a_tuple[1])\n",
    "print('Third item is', a_tuple[2])\n",
    "\n",
    "# There is no fourth element, so we get an IndexError if we try to retrieve it.\n",
    "a_tuple[3]"
   ]
  },
  {
   "cell_type": "markdown",
   "metadata": {},
   "source": [
    "## Dictionaries\n",
    "A dictionary stores items according to a \"key\", much like how the words and definitions are structured in, for example, the Oxford English Dictionary. The key can be any *immutable* item - such as an int, str, float, or tuple - and the corresponding can be any type. For example, one might create a dictionary that maps employee numbers to the corresponding name of that employee: \n",
    "   ```python \n",
    "   name_dict = {1 : 'Alice',\n",
    "                2 : 'Bob', \n",
    "                3 : 'Charlie'}\n",
    "   ```\n",
    "To retrieve the name of a specific employee, we need only use look for the item indexed by the corresponding employee number, so that `name_dict[1] = Alice`, and so on. On the surface, this might look as if we are simply creating a list and accessing the index for the corresponding employee name, but a dictionary has more structure than a list. The value is strongly bound to the corresponding key in a dictionary, and this is not altered if other items are added to, or removed from, the dictionary. This would not be the case with a list."
   ]
  },
  {
   "cell_type": "code",
   "execution_count": null,
   "metadata": {},
   "outputs": [],
   "source": [
    "# The \"employee number\" has been changed to start with 0 to make the point more clear\n",
    "name_dict = {0 : 'Alice',\n",
    "             1 : 'Bob',\n",
    "             2 : 'Charlie'}\n",
    "name_list = ['Alice', 'Bob', 'Charlie']\n",
    "\n",
    "# All true for now\n",
    "print('name_dict[0] == name_list[0]:', name_dict[0] == name_list[0])\n",
    "print('name_dict[1] == name_list[1]:', name_dict[1] == name_list[1])\n",
    "print('name_dict[2] == name_list[2]:', name_dict[2] == name_list[2])\n",
    "\n",
    "# Now remove Bob for both\n",
    "name_dict.pop(1)\n",
    "name_list.pop(1)\n",
    "print('Item 0 is still:', 'in dict', name_dict[0], 'in list', name_dict[0])\n",
    "print('But now name_dict[1] does not exist, while name_list[1] is', name_list[1])\n",
    "print('name_dict[2] is still', name_dict[2])"
   ]
  },
  {
   "cell_type": "markdown",
   "metadata": {},
   "source": [
    "Dictionaries share some of the properties of lists and tuples, such as the `len` function and the way that items are accessed (except now the key can types other than integers)."
   ]
  },
  {
   "cell_type": "code",
   "execution_count": null,
   "metadata": {},
   "outputs": [],
   "source": [
    "a_dict = {'one' : 1, 'two' : 2, 'three' : 3}\n",
    "\n",
    "print('Length is', len(a_dict))\n",
    "\n",
    "key = 'one'\n",
    "print('Item corresponding to', key, 'is', a_dict[key])\n",
    "\n",
    "key = 'two'\n",
    "print('Item corresponding to', key, 'is', a_dict[key])"
   ]
  },
  {
   "cell_type": "markdown",
   "metadata": {},
   "source": [
    "To add an item to a dictionary we simply assign the item associated with the desired `key` to the desired `value` as in the following example."
   ]
  },
  {
   "cell_type": "code",
   "execution_count": null,
   "metadata": {},
   "outputs": [],
   "source": [
    "new_key = 'a new key'\n",
    "new_value = 42\n",
    "a_dict[new_key] = new_value\n",
    "print(a_dict)"
   ]
  },
  {
   "cell_type": "markdown",
   "metadata": {},
   "source": [
    "We can also use the `pop` method to retreive and remove an item from a dictionary using its key."
   ]
  },
  {
   "cell_type": "code",
   "execution_count": null,
   "metadata": {},
   "outputs": [],
   "source": [
    "popped = a_dict.pop(new_key)\n",
    "print('Popped', popped)"
   ]
  },
  {
   "cell_type": "markdown",
   "metadata": {},
   "source": [
    "## Exercises\n",
    "\n",
    "1. Create a list `fib = [1,1]`. (Lists can contain duplicate entries without any issues.) Now extend this list so that it contains the numbers 1, 1, 2, 3, 5, 8, 11 without simply appending the new numbers.\n",
    "\n",
    "2. Create a dictionary whose keys are the names 'one', 'two', and 'three', and the corresponding values are tuples, containing the integer and float representations of the key. How would you access the float representation corresponding to 'two'?\n",
    "\n",
    "3. Create a dictionary holds the correct definition of 'list', 'tuple', and 'dict': \n",
    " * A container type that does not support adding or removing items.\n",
    " * A container type where items are referenced using a \"key\".\n",
    " * A container type that supports adding and remove items."
   ]
  }
 ],
 "metadata": {
  "kernelspec": {
   "display_name": "Python 3",
   "language": "python",
   "name": "python3"
  },
  "language_info": {
   "codemirror_mode": {
    "name": "ipython",
    "version": 3
   },
   "file_extension": ".py",
   "mimetype": "text/x-python",
   "name": "python",
   "nbconvert_exporter": "python",
   "pygments_lexer": "ipython3",
   "version": "3.7.0"
  }
 },
 "nbformat": 4,
 "nbformat_minor": 2
}
