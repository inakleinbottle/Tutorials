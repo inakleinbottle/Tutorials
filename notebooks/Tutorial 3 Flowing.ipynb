{
 "cells": [
  {
   "cell_type": "markdown",
   "metadata": {},
   "source": [
    "# Tutorial 3: Flowing\n",
    "In this tutorial we will see how to control the 'flow' of a Python program, how to construct loops, and how to work with conditional statements. We have already seen that Python has convenient container objects that can be used to store data, and in this tutorial we shall see that we can also iterate over these containers and access each item in sequence.\n",
    "\n",
    "## Instructions\n",
    "Read through the following sections carefully. When you reach a code cell (those in a highlighted box), you should look at the code inside and the nexecute the cell (either by pressing the run button on the cell or pressing Ctrl-Enter) to see the output."
   ]
  },
  {
   "cell_type": "markdown",
   "metadata": {},
   "source": [
    "## Booleans - True or False\n",
    "Before we can discuss conditional statements we must understand the values of true and false in Python. A *Boolean* is a value that can be either *True* or *False*, and this is a basic type in Python with the values `True` and `False`. (Note that these are capitalised.) Whenever we use a conditional, the testing expression should always evaluate to one of these possiblilites. We should also note that Python has some short-cut features that allow certain values of other types to evaluate as `True` or `False`; we shall discuss these below.\n",
    "\n",
    "The most common method for obtaining a Boolean value is by *equality testing*, which is achieved using the equality operator `==`. (Note the double equals, which distinguishes equality test from assignment.) If we write `a == b`, Python will test whether the values of variables `a` and `b` are equal. Note that `a` and `b` need not be the *same* object, they need only have the same *value* in the eyes of the Python interpreter. If we wish to test whether two variables reference the same object, the we use the Python keyword `is`. This distinction can be useful, but most often we really need the equality operator `==`."
   ]
  },
  {
   "cell_type": "code",
   "execution_count": null,
   "metadata": {},
   "outputs": [],
   "source": [
    "a = 1 # integer 1\n",
    "b = 1.0 # float 1\n",
    "print('a and b have the same value:', a == b)\n",
    "print('a and b are the same object:', a is b)"
   ]
  },
  {
   "cell_type": "markdown",
   "metadata": {},
   "source": [
    "It is useful to note that the equality operator works for many inbuilt types in Python and not just numerical values. For example `'a string' == 'b string'` would test the equality of the strings 'a string' and 'b string', which of course are not equal."
   ]
  },
  {
   "cell_type": "markdown",
   "metadata": {},
   "source": [
    "### Combining Booleans\n",
    "Boolean expressions can joined together using the *logical connectives* `or` and `and`, which are conveniently represented in Python by keywords of the same name. The `or` connective evaluates to `True` of one or both of the surrounding expressions evaluates to `True`, and the `and` connective evaluates to `True` only if both of the surrounding expressions evaluate to `True`. We can also 'invert' a Boolean value using the `not` keyword, which is the *logical negation* operation."
   ]
  },
  {
   "cell_type": "code",
   "execution_count": null,
   "metadata": {},
   "outputs": [],
   "source": [
    "a = 5\n",
    "b = 4\n",
    "c = a + b == 9\n",
    "d = a - b == 2\n",
    "print('The value of a + b equals 9:', c)\n",
    "print('The value of a - b equals 2:', d)\n",
    "print('The value of a + b equals 9 or a - b equals 2:', c or d)\n",
    "print('The value of a + b equals 9 and a - b equals 2:', c and d)\n",
    "print('The value of a - b is not equal to 2:', not d)"
   ]
  },
  {
   "cell_type": "markdown",
   "metadata": {},
   "source": [
    "Note that the expressions `c or d`, `c and d`, and `not d` evaluate to True or False and so can be joined using the logical connectives or negation. In doing so, one must be careful that brackets are placed in the correct places to ensure that the test performed is as intended. For instance, consider the following expressions."
   ]
  },
  {
   "cell_type": "code",
   "execution_count": null,
   "metadata": {},
   "outputs": [],
   "source": [
    "a = False\n",
    "b = True\n",
    "c = False\n",
    "d = a or b # True\n",
    "print('a or d:', a and d)\n",
    "print('a and a or b:', a and a or b)\n",
    "print('In fact \"a and d\" is equivalent to \"(a and a) or (a and b)\", both of which are False.')"
   ]
  },
  {
   "cell_type": "markdown",
   "metadata": {},
   "source": [
    "It is useful to note that the order of the expressions `a` and `b` about a single logical connective is not important, so that `(a and b) is (b and a)` and `(a or b) is (b or a)`. If one or both of `a` or `b` are themselves compound expressions (involving `and`, `or`, or `not`, then care must be taken)."
   ]
  },
  {
   "cell_type": "code",
   "execution_count": null,
   "metadata": {},
   "outputs": [],
   "source": [
    "a = True\n",
    "b = False\n",
    "print('(a or b) is (b or a):', (a or b) is (b or a))\n",
    "print('(a and b) is (b and a):', (a and b) is (b and a))"
   ]
  },
  {
   "cell_type": "markdown",
   "metadata": {},
   "source": [
    "### Other useful truth tests\n",
    "Python provides several standard comparison operators including the standard mathematical size comparisons less than (or equal to) and greater than (or equal to)."
   ]
  },
  {
   "cell_type": "code",
   "execution_count": null,
   "metadata": {},
   "outputs": [],
   "source": [
    "a = 2.0\n",
    "b = 3.0\n",
    "print('a is less than b:', a < b)\n",
    "print('a is less than or equal to b:', a <= b)\n",
    "print('a is greater than b:', a > b)\n",
    "print('a is greater than or equal to b:', a >= b)"
   ]
  },
  {
   "cell_type": "markdown",
   "metadata": {},
   "source": [
    "We shall make frequent use of the Python `in` keyword in various places. In the context of Boolean expressions, the `in` keyword is for testing for the existence of an item in a list, tuple, or dict. We can add the `not` keyword to test instead for non-inclusion."
   ]
  },
  {
   "cell_type": "code",
   "execution_count": null,
   "metadata": {},
   "outputs": [],
   "source": [
    "a_list = [1, 2, 3, 4]\n",
    "a = 1\n",
    "b = 5\n",
    "print('a is in the list:', a in a_list)\n",
    "print('b is in the list:', b in a_list)\n",
    "print('b is not in the list:', b not in a_list)"
   ]
  },
  {
   "cell_type": "markdown",
   "metadata": {},
   "source": [
    "In addition to the comparisions and inclusion testing, Python recognises several different items as False in truth testing such as: the None type; integers and floats with value 0; empty lists, tuples, dicts, and strings. Other values for these types results in a True value. (In the following the `bool` function is used to convert a type to its Boolean equivalent.)"
   ]
  },
  {
   "cell_type": "code",
   "execution_count": null,
   "metadata": {},
   "outputs": [],
   "source": [
    "print('Boolean of None:', bool(None))\n",
    "print('Boolean of 0:', bool(0))\n",
    "print('Boolean of 1.0:', bool(1.0))\n",
    "print('Boolean of [] (empty list):', bool([]))\n",
    "print('Boolean of [1]:', bool([1]))"
   ]
  },
  {
   "cell_type": "markdown",
   "metadata": {},
   "source": [
    "## Conditional statements\n",
    "Sometimes we want a Python to change its execution depending on the circumstances. For this we use *conditional statements* to define conditions under which a set of commands should be executed. The syntax is as follows\n",
    "```python\n",
    "if condition:\n",
    "    <code to execute>\n",
    "```\n",
    "where `<code to execute>` should be replaced by the relevant code, and `condition` should be a Boolean expression. Note that the `if` statement ends with a colon and the code to be conditionally executed is indented below this line. Python recognises the code associated with a conditional by the indentation level - how far the code is indented from the left margin. Code that appears after the if statement without any indentation is not associated with the conditional and will be executed regardless of the value of `condition`. The recommended indetation following such a statement is four spaces, and many Python editors (such as IDLE) will automatically perform the correct indentation following the line `if condition:`."
   ]
  },
  {
   "cell_type": "code",
   "execution_count": null,
   "metadata": {},
   "outputs": [],
   "source": [
    "cond = True # Change to False to see different behaviour\n",
    "if cond:\n",
    "    print('Condition is true')\n",
    "print('This is always shown')"
   ]
  },
  {
   "cell_type": "markdown",
   "metadata": {},
   "source": [
    "The `condition` in a conditional can be any Boolean expression, or expression that can be converted to a Boolean value. For example, a standard trick to test whether a list is empty is to simply write `if a_list:`. The code that follows is executed whenever the list is not empty."
   ]
  },
  {
   "cell_type": "code",
   "execution_count": null,
   "metadata": {},
   "outputs": [],
   "source": [
    "a_list = ['spam', 'ham']\n",
    "if a_list:\n",
    "    print(a_list[0]) # We know that this will work, because the a_list is not empty.\n",
    "if not []: # put an item in this list to see different behaviour\n",
    "    print('This list is empty')"
   ]
  },
  {
   "cell_type": "markdown",
   "metadata": {},
   "source": [
    "If we wish to provide code to be executed in the event the condition fails, we can use the `else:` statement to indicate that the code that follows should only be executed if the first condition fails. The syntax is as follows:\n",
    "```python\n",
    "if condition:\n",
    "    <code to execute if condition is true>\n",
    "else:\n",
    "    <code to execute if condition is false>\n",
    "```\n",
    "Alternatively, if there are serveral different tests to perform, we can use the `elif condition:` statement. For example, we may wish to perform different actions depending on whether a number is positive, negative, or zero. This can be acheived using several `elif` statements."
   ]
  },
  {
   "cell_type": "code",
   "execution_count": null,
   "metadata": {},
   "outputs": [],
   "source": [
    "a = 1 # Experiment with different numbers here\n",
    "print('If-else branch')\n",
    "if a >= 0:\n",
    "    print('Positive or zero')\n",
    "else:\n",
    "    print('Negative')\n",
    "print('') # Print a blank line\n",
    "print('If-elif-else branch')\n",
    "if a > 0:\n",
    "    print('Positive')\n",
    "elif a < 0:\n",
    "    print('Negative')\n",
    "else: # Could also be \"elif a == 0:\", since a == 0 is the only possible remaining case.\n",
    "    print('Zero')"
   ]
  },
  {
   "cell_type": "markdown",
   "metadata": {},
   "source": [
    "A question you should ponder, and answer yourself, is the following: what happens if a variable satisfies more than one `elif condition` statement? (For instance, if `>` and `<` were replaced by `>=` and `<=` in the above.)"
   ]
  },
  {
   "cell_type": "markdown",
   "metadata": {},
   "source": [
    "## For loops\n",
    "Suppose that we have a list of numbers that we wish to print in sequence. The naiive approach is to print each item in the list individually. But this approach would become exhausting if the list contains many elements, and it cannot be used if the number of items in the list changes. Fortunately, we can avoid these problems using a *for loop*. The most direct translation of the naiive approach is given by the following code:\n",
    "```python\n",
    "a_list = [1, 2, 3, 4, 5]\n",
    "for i in range(len(a_list)):\n",
    "    print(a_list[i])\n",
    "```\n",
    "where `range` provides the integers up to `len(a_list) - 1`. In this context, the `in` keyword specifies that `i` should be taken from the `range(len(a_list))` object, and this process will continue until there are no more values to be taken. Python provides a much cleaner and more convenient way to write such a loop, illustrated below."
   ]
  },
  {
   "cell_type": "code",
   "execution_count": null,
   "metadata": {},
   "outputs": [],
   "source": [
    "a_list = [1, 2, 3, 4, 5] # modify this list to see different outputs.\n",
    "for item in a_list:\n",
    "    print(item)"
   ]
  },
  {
   "cell_type": "markdown",
   "metadata": {},
   "source": [
    "Using this syntax, we no longer need to check if the list is empty or look how many items are contained therein. The `for item in a_list:` statement will only execute if there is an `item` to take form `a_list`, and will continue to take `item` until all items from `a_list` have been exhausted, regardless of the size of `a_list`.\n",
    "\n",
    "Lists are not the only container object that supports this kind of iteration. Python has a special name - *iterables* - for those types that support this kind of `for ... in ...` statements. These include lists, tuples, and dictionaries, but there are many others. In the case of a dictionary, we can iterate over the keys, the values, or both using one of the following:"
   ]
  },
  {
   "cell_type": "code",
   "execution_count": null,
   "metadata": {
    "collapsed": true
   },
   "outputs": [],
   "source": [
    "a_dict = {'one': 1, 'two': 2, 'three' : 3}\n",
    "print('Iterate over keys')\n",
    "for key in a_dict:\n",
    "    print(key)\n",
    "\n",
    "print('')\n",
    "print('Iterate over values')\n",
    "for value in a_dict.values():\n",
    "    print(value)\n",
    "\n",
    "print('')\n",
    "print('Iterate over (key, value) pairs')\n",
    "for key, value in a_dict.items():\n",
    "    print(key, ':', value)"
   ]
  },
  {
   "cell_type": "markdown",
   "metadata": {},
   "source": [
    "## While loops\n",
    "For loops work whenver we have some predetermined object over which we can iterate but sometimes we need to execute code whilst a given condition is satisfied. For these situations we use a *while* loop. The syntax is as follows:\n",
    "```python\n",
    "while condition:\n",
    "    <code to execute>\n",
    "```\n",
    "where `condition` is again a Boolean expression. Note that if `condition` always evaluates to `True` then the loop will never terminate; this situation is called an *infinite loop*. It is best to avoid infinite loops wherever possible.\n",
    "\n",
    "In the following example we use a while loop to find the greatest common divisor of two numbers using the Euclidean algorithm (see [Euclidean algorthm](https://en.wikipedia.org/wiki/Euclidean_algorithm))."
   ]
  },
  {
   "cell_type": "code",
   "execution_count": null,
   "metadata": {},
   "outputs": [],
   "source": [
    "a = 177\n",
    "b = 243 # Change these values for different outputs\n",
    "while b: # execute the code whenever b is not zero\n",
    "    t = b\n",
    "    b = a % b # remainder after division by b\n",
    "    a = t\n",
    "print('Greatest common divisor of a and b is', a)"
   ]
  },
  {
   "cell_type": "raw",
   "metadata": {},
   "source": [
    "In some cases, we may need to terminate a loop early. This can be achieved using the `break` keyword. This will force Python to immediately leave the current loop and execute any code that follows the loop. Here is an example from mathematics."
   ]
  },
  {
   "cell_type": "code",
   "execution_count": null,
   "metadata": {},
   "outputs": [],
   "source": [
    "max_iterations = 3 # Unreasonably small maximum number of iterations\n",
    "iterations = 0\n",
    "epsilon = 0.0001\n",
    "x = 3\n",
    "err = abs(x ** 2 - 1)\n",
    "\n",
    "while err >= epsilon:\n",
    "    \n",
    "    if iterations == max_iterations:\n",
    "        break\n",
    "    \n",
    "    x = x - (x ** 2 - 1) / (2 * x) # get the next x value\n",
    "    err = abs(x ** 2 - 1)\n",
    "    \n",
    "    iterations += 1 # increment the iterations counter\n",
    "\n",
    "print('The value of x is ', x)\n",
    "print('The error is', abs(x ** 2 - 1))\n",
    "print('Stopped after', iterations, 'iterations')"
   ]
  },
  {
   "cell_type": "markdown",
   "metadata": {},
   "source": [
    "Here we use the `break` keyword to prevent the code from taking too long to execute. In this example, `err` becomes small very quickly (Newton's method is quite efficient), and so it does not take many iterations to satisfy the condition of the `while` statement. However, we limit the number of iterations to three, so Python will always leave the loop after at most three iterations, regardless of whether the desired accuracy has been attained."
   ]
  },
  {
   "cell_type": "markdown",
   "metadata": {},
   "source": [
    "## Exercises\n",
    "\n",
    "#### Exercise 1\n",
    "Define `a = 125`, `b = 17`. Write a while loop that executes whilst both a and b are positive, and at each iteration defines\n",
    "```\n",
    "t = a\n",
    "a = a - b + 4\n",
    "b = t - a + 7\n",
    "```\n",
    "and print the final values of `a` and `b`. Experiment with different initial `a` and `b` values to see how this changes the output."
   ]
  },
  {
   "cell_type": "code",
   "execution_count": null,
   "metadata": {
    "collapsed": true
   },
   "outputs": [],
   "source": []
  },
  {
   "cell_type": "markdown",
   "metadata": {},
   "source": [
    "#### Exercise 2\n",
    "Create the list `fib = [1,1]`. Iteratively add Fibonacci numbers where the next Fibonacci number is given by the sum of the previous two) to `fib` until it cointains the first 100 Fibonacci numbers. Print the 100th Fibonacci number. (Hint: use the `range` command.)"
   ]
  },
  {
   "cell_type": "code",
   "execution_count": null,
   "metadata": {
    "collapsed": true
   },
   "outputs": [],
   "source": []
  },
  {
   "cell_type": "markdown",
   "metadata": {},
   "source": [
    "#### Exercise 3\n",
    "Write a conditional statement that prints 'Yes' if a string that you provide (saved in an appropriate variable) contains 'y' and otherwise prints 'No'. Experiment with different strings."
   ]
  },
  {
   "cell_type": "code",
   "execution_count": null,
   "metadata": {
    "collapsed": true
   },
   "outputs": [],
   "source": []
  }
 ],
 "metadata": {
  "kernelspec": {
   "display_name": "Python 3",
   "language": "python",
   "name": "python3"
  },
  "language_info": {
   "codemirror_mode": {
    "name": "ipython",
    "version": 3
   },
   "file_extension": ".py",
   "mimetype": "text/x-python",
   "name": "python",
   "nbconvert_exporter": "python",
   "pygments_lexer": "ipython3",
   "version": "3.6.3"
  }
 },
 "nbformat": 4,
 "nbformat_minor": 2
}
